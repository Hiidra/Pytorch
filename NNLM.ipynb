{
 "cells": [
  {
   "cell_type": "code",
   "execution_count": 1,
   "metadata": {},
   "outputs": [],
   "source": [
    "import numpy as np\n",
    "import torch\n",
    "import torch.nn as nn\n",
    "import torch.optim as optim\n",
    "from torch.autograd import Variable"
   ]
  },
  {
   "cell_type": "code",
   "execution_count": 2,
   "metadata": {},
   "outputs": [],
   "source": [
    "dtype=torch.FloatTensor"
   ]
  },
  {
   "cell_type": "code",
   "execution_count": 3,
   "metadata": {},
   "outputs": [],
   "source": [
    "sentences = [ \"i like dog\", \"i love coffee\", \"i hate milk\"]"
   ]
  },
  {
   "cell_type": "code",
   "execution_count": 4,
   "metadata": {},
   "outputs": [],
   "source": [
    "word_list=\" \".join(sentences).split()"
   ]
  },
  {
   "cell_type": "code",
   "execution_count": 5,
   "metadata": {},
   "outputs": [
    {
     "data": {
      "text/plain": [
       "['i', 'like', 'dog', 'i', 'love', 'coffee', 'i', 'hate', 'milk']"
      ]
     },
     "execution_count": 5,
     "metadata": {},
     "output_type": "execute_result"
    }
   ],
   "source": [
    "word_list"
   ]
  },
  {
   "cell_type": "code",
   "execution_count": 6,
   "metadata": {},
   "outputs": [],
   "source": [
    "idx_to_word=list(set(word_list))"
   ]
  },
  {
   "cell_type": "code",
   "execution_count": 7,
   "metadata": {},
   "outputs": [
    {
     "data": {
      "text/plain": [
       "['love', 'coffee', 'milk', 'hate', 'dog', 'like', 'i']"
      ]
     },
     "execution_count": 7,
     "metadata": {},
     "output_type": "execute_result"
    }
   ],
   "source": [
    "idx_to_word"
   ]
  },
  {
   "cell_type": "code",
   "execution_count": 8,
   "metadata": {},
   "outputs": [],
   "source": [
    "word_to_idx={w:i for i,w in enumerate(idx_to_word)}"
   ]
  },
  {
   "cell_type": "code",
   "execution_count": 9,
   "metadata": {},
   "outputs": [
    {
     "data": {
      "text/plain": [
       "{'love': 0, 'coffee': 1, 'milk': 2, 'hate': 3, 'dog': 4, 'like': 5, 'i': 6}"
      ]
     },
     "execution_count": 9,
     "metadata": {},
     "output_type": "execute_result"
    }
   ],
   "source": [
    "word_to_idx"
   ]
  },
  {
   "cell_type": "code",
   "execution_count": 10,
   "metadata": {},
   "outputs": [],
   "source": [
    "n_class=len(word_list)"
   ]
  },
  {
   "cell_type": "code",
   "execution_count": 11,
   "metadata": {},
   "outputs": [
    {
     "data": {
      "text/plain": [
       "9"
      ]
     },
     "execution_count": 11,
     "metadata": {},
     "output_type": "execute_result"
    }
   ],
   "source": [
    "n_class"
   ]
  },
  {
   "cell_type": "code",
   "execution_count": 12,
   "metadata": {},
   "outputs": [],
   "source": [
    "n_step = 2 # n-1 in paper\n",
    "n_hidden = 2 # h in paper\n",
    "m = 2 # m in paper"
   ]
  },
  {
   "cell_type": "code",
   "execution_count": 13,
   "metadata": {},
   "outputs": [],
   "source": [
    "def make_batch(sentences):\n",
    "    input_batch=[]\n",
    "    target_batch=[]\n",
    "    for sen in sentences:\n",
    "        word=sen.split()\n",
    "        input=[word_to_idx.get(n) for n in word[:-1]]\n",
    "        target=word_to_idx.get(word[-1])\n",
    "        input_batch.append(input)\n",
    "        target_batch.append(target)\n",
    "    return input_batch,target_batch"
   ]
  },
  {
   "cell_type": "code",
   "execution_count": 14,
   "metadata": {},
   "outputs": [],
   "source": [
    "class NNLM(nn.Module):\n",
    "    def __init__(self):\n",
    "        super(NNLM, self).__init__()\n",
    "        self.C = nn.Embedding(n_class, m)\n",
    "        self.H = nn.Parameter(torch.randn(n_step * m, n_hidden).type(dtype))\n",
    "        self.W = nn.Parameter(torch.randn(n_step * m, n_class).type(dtype))\n",
    "        self.d = nn.Parameter(torch.randn(n_hidden).type(dtype))\n",
    "        self.U = nn.Parameter(torch.randn(n_hidden, n_class).type(dtype))\n",
    "        self.b = nn.Parameter(torch.randn(n_class).type(dtype))\n",
    "\n",
    "    def forward(self, X):\n",
    "        X = self.C(X)\n",
    "        X = X.view(-1, n_step * m) # [batch_size, n_step * n_class]\n",
    "        tanh = torch.tanh(self.d + torch.mm(X, self.H)) # [batch_size, n_hidden]\n",
    "        output = self.b + torch.mm(X, self.W) + torch.mm(tanh, self.U) # [batch_size, n_class]\n",
    "        return output"
   ]
  },
  {
   "cell_type": "code",
   "execution_count": 15,
   "metadata": {},
   "outputs": [],
   "source": [
    "model=NNLM()"
   ]
  },
  {
   "cell_type": "code",
   "execution_count": 16,
   "metadata": {},
   "outputs": [],
   "source": [
    "criterion=nn.CrossEntropyLoss()"
   ]
  },
  {
   "cell_type": "code",
   "execution_count": 17,
   "metadata": {},
   "outputs": [],
   "source": [
    "optimizer=optim.Adam(model.parameters(),lr=1e-3)"
   ]
  },
  {
   "cell_type": "code",
   "execution_count": 18,
   "metadata": {},
   "outputs": [],
   "source": [
    "input_batch, target_batch = make_batch(sentences)"
   ]
  },
  {
   "cell_type": "code",
   "execution_count": 19,
   "metadata": {},
   "outputs": [
    {
     "data": {
      "text/plain": [
       "[[6, 5], [6, 0], [6, 3]]"
      ]
     },
     "execution_count": 19,
     "metadata": {},
     "output_type": "execute_result"
    }
   ],
   "source": [
    "input_batch"
   ]
  },
  {
   "cell_type": "code",
   "execution_count": 20,
   "metadata": {},
   "outputs": [
    {
     "data": {
      "text/plain": [
       "[4, 1, 2]"
      ]
     },
     "execution_count": 20,
     "metadata": {},
     "output_type": "execute_result"
    }
   ],
   "source": [
    "target_batch"
   ]
  },
  {
   "cell_type": "code",
   "execution_count": 21,
   "metadata": {},
   "outputs": [],
   "source": [
    "input_batch=torch.LongTensor(input_batch)\n",
    "target_batch=torch.LongTensor(target_batch)"
   ]
  },
  {
   "cell_type": "code",
   "execution_count": 22,
   "metadata": {},
   "outputs": [
    {
     "name": "stdout",
     "output_type": "stream",
     "text": [
      "epoch: 0100 cost: 1.172833\n",
      "epoch: 0200 cost: 0.663027\n",
      "epoch: 0300 cost: 0.421013\n",
      "epoch: 0400 cost: 0.277211\n",
      "epoch: 0500 cost: 0.188496\n",
      "epoch: 0600 cost: 0.134336\n",
      "epoch: 0700 cost: 0.100517\n",
      "epoch: 0800 cost: 0.078400\n",
      "epoch: 0900 cost: 0.063194\n",
      "epoch: 1000 cost: 0.052262\n",
      "epoch: 1100 cost: 0.044099\n",
      "epoch: 1200 cost: 0.037811\n",
      "epoch: 1300 cost: 0.032842\n",
      "epoch: 1400 cost: 0.028828\n",
      "epoch: 1500 cost: 0.025528\n",
      "epoch: 1600 cost: 0.022774\n",
      "epoch: 1700 cost: 0.020445\n",
      "epoch: 1800 cost: 0.018454\n",
      "epoch: 1900 cost: 0.016735\n",
      "epoch: 2000 cost: 0.015238\n",
      "epoch: 2100 cost: 0.013925\n",
      "epoch: 2200 cost: 0.012766\n",
      "epoch: 2300 cost: 0.011737\n",
      "epoch: 2400 cost: 0.010818\n",
      "epoch: 2500 cost: 0.009993\n",
      "epoch: 2600 cost: 0.009251\n",
      "epoch: 2700 cost: 0.008579\n",
      "epoch: 2800 cost: 0.007970\n",
      "epoch: 2900 cost: 0.007415\n",
      "epoch: 3000 cost: 0.006908\n",
      "epoch: 3100 cost: 0.006445\n",
      "epoch: 3200 cost: 0.006019\n",
      "epoch: 3300 cost: 0.005627\n",
      "epoch: 3400 cost: 0.005266\n",
      "epoch: 3500 cost: 0.004933\n",
      "epoch: 3600 cost: 0.004624\n",
      "epoch: 3700 cost: 0.004338\n",
      "epoch: 3800 cost: 0.004073\n",
      "epoch: 3900 cost: 0.003826\n",
      "epoch: 4000 cost: 0.003596\n",
      "epoch: 4100 cost: 0.003382\n",
      "epoch: 4200 cost: 0.003183\n",
      "epoch: 4300 cost: 0.002996\n",
      "epoch: 4400 cost: 0.002821\n",
      "epoch: 4500 cost: 0.002658\n",
      "epoch: 4600 cost: 0.002505\n",
      "epoch: 4700 cost: 0.002361\n",
      "epoch: 4800 cost: 0.002227\n",
      "epoch: 4900 cost: 0.002100\n",
      "epoch: 5000 cost: 0.001982\n"
     ]
    }
   ],
   "source": [
    "for epoch in range(5000):\n",
    "    optimizer.zero_grad()\n",
    "    output=model(input_batch)\n",
    "    loss=criterion(output,target_batch)\n",
    "    if (epoch+1)%100==0:\n",
    "        print('epoch:','%04d'%(epoch+1),'cost:','{:.6f}'.format(loss))\n",
    "    loss.backward()\n",
    "    optimizer.step()"
   ]
  },
  {
   "cell_type": "code",
   "execution_count": 23,
   "metadata": {},
   "outputs": [
    {
     "name": "stdout",
     "output_type": "stream",
     "text": [
      "[['i', 'like'], ['i', 'love'], ['i', 'hate']] -> ['dog', 'coffee', 'milk']\n"
     ]
    }
   ],
   "source": [
    "# Predict\n",
    "predict = model(input_batch).data.max(1, keepdim=True)[1]\n",
    "\n",
    "# Test\n",
    "print([sen.split()[:2] for sen in sentences], '->', [idx_to_word[n.item()] for n in predict.squeeze()])"
   ]
  },
  {
   "cell_type": "code",
   "execution_count": null,
   "metadata": {},
   "outputs": [],
   "source": []
  }
 ],
 "metadata": {
  "kernelspec": {
   "display_name": "Python 3",
   "language": "python",
   "name": "python3"
  },
  "language_info": {
   "codemirror_mode": {
    "name": "ipython",
    "version": 3
   },
   "file_extension": ".py",
   "mimetype": "text/x-python",
   "name": "python",
   "nbconvert_exporter": "python",
   "pygments_lexer": "ipython3",
   "version": "3.7.6"
  }
 },
 "nbformat": 4,
 "nbformat_minor": 4
}
